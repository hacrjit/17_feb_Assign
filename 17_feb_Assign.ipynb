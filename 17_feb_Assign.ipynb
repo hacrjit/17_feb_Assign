{
 "cells": [
  {
   "cell_type": "markdown",
   "id": "367123f2-eaeb-4c21-94d9-6b91d99f0fc8",
   "metadata": {},
   "source": [
    "### <b>Question No. 1</b>"
   ]
  },
  {
   "cell_type": "markdown",
   "id": "fd4fb5a1-fbd2-46fb-bf57-d245897fb477",
   "metadata": {},
   "source": [
    "MongoDB is a popular open-source, document-oriented NoSQL (non-relational) database. It stores data in flexible, JSON-like documents, which makes it easy to model and query data. MongoDB is designed to be scalable, flexible, and high-performing, making it suitable for a wide range of applications.\n",
    "\n",
    "Non-relational databases, also known as NoSQL databases, diverge from the traditional relational databases by not adhering to the tabular schema structure of rows and columns. Instead, they offer a more flexible data model, often based on key-value pairs, documents, graphs, or wide-column stores. NoSQL databases are designed to handle large volumes of rapidly changing and unstructured data. They offer advantages such as scalability, flexibility, and better performance for certain types of applications compared to relational databases.\n",
    "\n",
    "MongoDB is preferred over SQL databases in several scenarios:\n",
    "\n",
    "Schema Flexibility: MongoDB's flexible schema allows for easy and dynamic changes to the data model without downtime or migrations. This is particularly useful in scenarios where the data structure is evolving or unpredictable.\n",
    "\n",
    "Scalability: MongoDB is horizontally scalable, meaning it can efficiently distribute data across multiple nodes or servers. This makes it well-suited for handling large volumes of data and high traffic loads.\n",
    "\n",
    "High Performance: MongoDB's document-oriented model allows for fast read and write operations, especially when dealing with nested or complex data structures. It also supports indexing, sharding, and other performance optimization techniques.\n",
    "\n",
    "Unstructured or Semi-structured Data: MongoDB is ideal for storing and querying semi-structured or unstructured data, such as JSON documents, log files, user profiles, and content management systems.\n",
    "\n",
    "Agile Development: MongoDB's agile development approach aligns well with modern development practices, such as agile and iterative development. Developers can quickly prototype, iterate, and deploy applications without being constrained by rigid schemas.\n",
    "\n",
    "Real-time Analytics: MongoDB's ability to handle large volumes of data and support real-time analytics makes it suitable for use cases such as IoT (Internet of Things), social media analytics, and real-time recommendation engines.\n",
    "\n"
   ]
  },
  {
   "cell_type": "markdown",
   "id": "9adaa4ac-d4a3-4b1c-b2b1-4b61f06b7c42",
   "metadata": {},
   "source": [
    "### <b>Question No. 2"
   ]
  },
  {
   "cell_type": "markdown",
   "id": "223dde3d-8528-4d71-8597-202a44c924fb",
   "metadata": {},
   "source": [
    "<b>MongoDB</b> is a NoSQL database that provides high performance, high availability, and automatic scaling. It is a document-oriented database, which means that data is stored in JSON-like documents. MongoDB is a popular choice for web applications, real-time data processing, and mobile applications.<br>\n",
    "<b>Here are some of the key features of MongoDB:</b><ul>\n",
    "<li>Document-oriented: MongoDB stores data in JSON-like documents. This makes it easy to store and retrieve complex data structures.</li>\n",
    "<li>Scalable: MongoDB can scale horizontally to handle large amounts of data and traffic.</li>\n",
    "<li>High performance: MongoDB is designed for high performance. It uses a variety of techniques, such as in-memory caching and asynchronous replication, to improve performance.</li>\n",
    "<li>High availability: MongoDB is designed for high availability. It uses replication to ensure that data is always available, even if one server fails.</li>\n",
    "<li>Flexible schema: MongoDB does not require a predefined schema. This makes it easy to add new fields and data types to your data.</li>\n",
    "<li>Rich query language: MongoDB provides a rich query language that allows you to easily query your data.</li>\n",
    "<li>Indexes: MongoDB supports indexes to improve the performance of queries.</li>\n",
    "<li>Aggregation: MongoDB supports aggregation to perform complex calculations on your data.</li>\n",
    "<li>Replication: MongoDB supports replication to ensure that data is always available.</li>\n",
    "<li>Sharding: MongoDB supports sharding to distribute data across multiple servers.</li>\n",
    "<li>Geospatial support: MongoDB supports geospatial data types and queries.</li>\n",
    "<li>ACID transactions: MongoDB supports ACID transactions, ensuring that data is always consistent.</li>"
   ]
  },
  {
   "cell_type": "markdown",
   "id": "64c5cf8b-55ab-4eea-97b3-87d46b83114a",
   "metadata": {},
   "source": [
    "### <b>Question No. 3"
   ]
  },
  {
   "cell_type": "markdown",
   "id": "4d54a2d7-e142-4801-9878-012fbfa539cd",
   "metadata": {},
   "source": [
    "```\n",
    "import pymongo\n",
    "\n",
    "# Establish a connection to MongoDB\n",
    "client = pymongo.MongoClient(\"mongodb://localhost:27017/\")\n",
    "\n",
    "# Create a new database\n",
    "mydb = client[\"mydatabase\"]\n",
    "\n",
    "# Create a new collection\n",
    "mycol = mydb[\"customers\"]\n",
    "\n",
    "# Sample data to insert into the collection\n",
    "mydata = {\"name\": \"John\", \"address\": \"Highway 37\"}\n",
    "\n",
    "# Insert sample data into the collection\n",
    "insert_result = mycol.insert_one(mydata)\n",
    "\n",
    "# Print the inserted document's ID\n",
    "print(\"Document ID:\", insert_result.inserted_id)\n"
   ]
  },
  {
   "cell_type": "markdown",
   "id": "b83cf481-c324-4334-aa90-46319d1f9741",
   "metadata": {},
   "source": [
    "### <b>Question No. 4"
   ]
  },
  {
   "cell_type": "markdown",
   "id": "4c28b12d-2cb9-4681-a320-6017079e04bb",
   "metadata": {},
   "source": [
    "```\n",
    "import pymongo\n",
    "\n",
    "# Establish a connection to MongoDB\n",
    "client = pymongo.MongoClient(\"mongodb://localhost:27017/\")\n",
    "\n",
    "# Access the created database and collection\n",
    "mydb = client[\"mydatabase\"]\n",
    "mycol = mydb[\"customers\"]\n",
    "\n",
    "# Insert one record\n",
    "one_record = {\"name\": \"Alice\", \"address\": \"123 Main Street\"}\n",
    "insert_one_result = mycol.insert_one(one_record)\n",
    "\n",
    "# Insert multiple records\n",
    "many_records = [\n",
    "    {\"name\": \"Bob\", \"address\": \"456 Elm Street\"},\n",
    "    {\"name\": \"Charlie\", \"address\": \"789 Oak Street\"},\n",
    "    {\"name\": \"David\", \"address\": \"101 Pine Street\"}\n",
    "]\n",
    "insert_many_result = mycol.insert_many(many_records)\n",
    "\n",
    "# Print the inserted record using find_one()\n",
    "print(\"Inserted record using find_one():\")\n",
    "print(mycol.find_one({\"name\": \"Alice\"}))\n",
    "\n",
    "# Print all inserted records using find()\n",
    "print(\"\\nInserted records using find():\")\n",
    "for record in mycol.find():\n",
    "    print(record)\n"
   ]
  },
  {
   "cell_type": "markdown",
   "id": "b96bd76a-053b-4174-ac3a-bf4284c62504",
   "metadata": {},
   "source": [
    "### <b>Question No. 5"
   ]
  },
  {
   "cell_type": "markdown",
   "id": "9515a75b-32d8-4589-ae22-f8881c2ab319",
   "metadata": {},
   "source": [
    "The find() method in MongoDB is used to retrieve documents from a collection. It takes an optional query object as a parameter, which specifies the criteria for the documents to be returned. If no query object is specified, all documents in the collection will be returned.<br>\n",
    "Example\n",
    "```import pymongo\n",
    "# Connect to the MongoDB database\n",
    "client = pymongo.MongoClient(\"localhost\", 27017)\n",
    "\n",
    "# Get the database\n",
    "db = client[\"my_database\"]\n",
    "\n",
    "# Get the collection\n",
    "collection = db[\"my_collection\"]\n",
    "\n",
    "# Find all documents in the collection\n",
    "cursor = collection.find()\n",
    "\n",
    "# Iterate over the cursor and print each document\n",
    "for document in cursor:\n",
    "    print(document)\n",
    "\n",
    "# Close the cursor\n",
    "cursor.close()"
   ]
  },
  {
   "cell_type": "markdown",
   "id": "70119a9c-c810-4d0f-8329-44c9b2ec7b86",
   "metadata": {},
   "source": [
    "### <b>Question No. 6"
   ]
  },
  {
   "cell_type": "markdown",
   "id": "c676fa2a-e7ab-4096-b1fe-1e34b9a19fd4",
   "metadata": {},
   "source": [
    "The sort() method specifies the order in which the query returns the matching documents from the given collection. You must apply this method to the cursor before retrieving any documents from the database. It takes a document as a parameter that contains a field: value pair that defines the sort order of the result set. The value is 1 or -1 specifying an ascending or descending sort respectively<br>\n",
    "<i>Example:<br>\n",
    "```db.student.find().sort({age:1})</i>```"
   ]
  },
  {
   "cell_type": "markdown",
   "id": "210995df-a890-46c9-a20c-e168a188c75a",
   "metadata": {},
   "source": [
    "### <b>Question No. 7"
   ]
  },
  {
   "cell_type": "markdown",
   "id": "db14254d-2187-400c-806c-4e403ac33ed0",
   "metadata": {},
   "source": [
    "The delete_one(), delete_many(), and drop() methods are used to delete documents from a MongoDB collection.<br>\n",
    "<b>delete_one():</b> deletes a single document from a collection. It takes a query object as its only argument, which specifies the document to delete. If the query finds more than one document, only the first occurrence is deleted.<br>\n",
    "<b>delete_many():</b> deletes all documents from a collection that match a given query. It takes a query object as its only argument.<br>\n",
    "<b>drop():</b> deletes all documents from a collection. It does not take any arguments."
   ]
  }
 ],
 "metadata": {
  "kernelspec": {
   "display_name": "Python 3 (ipykernel)",
   "language": "python",
   "name": "python3"
  },
  "language_info": {
   "codemirror_mode": {
    "name": "ipython",
    "version": 3
   },
   "file_extension": ".py",
   "mimetype": "text/x-python",
   "name": "python",
   "nbconvert_exporter": "python",
   "pygments_lexer": "ipython3",
   "version": "3.10.12"
  }
 },
 "nbformat": 4,
 "nbformat_minor": 5
}
